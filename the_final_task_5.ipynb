{
  "nbformat": 4,
  "nbformat_minor": 0,
  "metadata": {
    "colab": {
      "provenance": []
    },
    "kernelspec": {
      "name": "python3",
      "display_name": "Python 3"
    },
    "language_info": {
      "name": "python"
    }
  },
  "cells": [
    {
      "cell_type": "code",
      "execution_count": 36,
      "metadata": {
        "id": "LQpVExMMzRXW"
      },
      "outputs": [],
      "source": [
        "from pyspark.sql import SparkSession\n",
        "from pyspark.sql.functions import count, sum\n",
        "\n",
        "spark = SparkSession.builder \\\n",
        ".appName(\"read\")  \\\n",
        ".getOrCreate()"
      ]
    },
    {
      "cell_type": "markdown",
      "source": [
        "## Описание структуры файла:\n",
        "\n",
        "- **ip** - IP-адрес клиента\n",
        "- **timestamp** - Временная метка запроса\n",
        "- **method** - HTTP-метод (GET, POST, etc.)\n",
        "- **url** - URL запроса\n",
        "- **response_code** - Код ответа (200, 404, etc.)\n",
        "- **response_size** - Размер ответа в байтах\n",
        "\n",
        "## Задание. Провести анализ информации:\n",
        "\n",
        "1. Сгруппировать данные по IP и посчитать количество запросов для каждого IP,\n",
        "   вывести 10 самых активных IP.\n",
        "2. Сгруппировать данные по HTTP-методу и посчитать количество запросов для каждого метода.\n",
        "3. Профильтровать и посчитать количество запросов с кодом ответа 404.\n",
        "4. Сгруппировать данные по дате и просуммировать размер ответов, сортировать по дате."
      ],
      "metadata": {
        "id": "Lj-obNNnL1B6"
      }
    },
    {
      "cell_type": "code",
      "source": [
        "# Прочитам CSV файл\n",
        "df = spark.read.csv(\"/content/web_server_logs.csv\", header=True, inferSchema=True)\n",
        "df = df.withColumn(\"date\", df[\"timestamp\"].cast('date'))\n",
        "df.printSchema()\n",
        "df.show(5)"
      ],
      "metadata": {
        "colab": {
          "base_uri": "https://localhost:8080/"
        },
        "id": "ZCzDSw3DMZk5",
        "outputId": "9b79177b-4b39-4d40-c754-f4dd61321897"
      },
      "execution_count": 37,
      "outputs": [
        {
          "output_type": "stream",
          "name": "stdout",
          "text": [
            "root\n",
            " |-- ip: string (nullable = true)\n",
            " |-- timestamp: timestamp (nullable = true)\n",
            " |-- method: string (nullable = true)\n",
            " |-- url: string (nullable = true)\n",
            " |-- response_code: integer (nullable = true)\n",
            " |-- response_size: integer (nullable = true)\n",
            " |-- date: date (nullable = true)\n",
            "\n",
            "+--------------+-------------------+------+--------------------+-------------+-------------+----------+\n",
            "|            ip|          timestamp|method|                 url|response_code|response_size|      date|\n",
            "+--------------+-------------------+------+--------------------+-------------+-------------+----------+\n",
            "|118.23.149.206|2024-06-01 19:04:26|DELETE|                main|          200|         2544|2024-06-01|\n",
            "| 106.31.106.21|2024-05-27 21:17:47|DELETE|                 app|          404|         5333|2024-05-27|\n",
            "| 120.194.10.75|2024-05-17 06:26:38|DELETE|categories/explor...|          404|         5383|2024-05-17|\n",
            "| 92.162.183.20|2024-02-02 06:55:10|   GET| wp-content/tag/main|          500|         1469|2024-02-02|\n",
            "|128.242.67.199|2024-05-16 00:45:04|DELETE|                 tag|          200|         3465|2024-05-16|\n",
            "+--------------+-------------------+------+--------------------+-------------+-------------+----------+\n",
            "only showing top 5 rows\n",
            "\n"
          ]
        }
      ]
    },
    {
      "cell_type": "markdown",
      "source": [
        "### 1) Сгруппируем данные по IP и посчитайтаем количество запросов для каждого IP, выведем 10 самых активных IP:"
      ],
      "metadata": {
        "id": "TyrvKgyLMwaD"
      }
    },
    {
      "cell_type": "code",
      "source": [
        "df_ip_count = (df.groupBy(\"ip\").agg(count(\"ip\")\n",
        "             .alias(\"request_count\")).sort(count(\"ip\").desc()))\n",
        "print(\"Top 10 active IP addresses:\")\n",
        "df_ip_count.show(10)"
      ],
      "metadata": {
        "colab": {
          "base_uri": "https://localhost:8080/"
        },
        "id": "FMJseUG1M4IQ",
        "outputId": "0b1a6b90-3192-452b-f92d-75fb91772bc2"
      },
      "execution_count": 38,
      "outputs": [
        {
          "output_type": "stream",
          "name": "stdout",
          "text": [
            "Top 10 active IP addresses:\n",
            "+--------------+-------------+\n",
            "|            ip|request_count|\n",
            "+--------------+-------------+\n",
            "|25.157.200.204|            2|\n",
            "|144.251.96.229|            1|\n",
            "|  4.117.73.242|            1|\n",
            "|169.214.84.160|            1|\n",
            "| 10.151.10.205|            1|\n",
            "|  1.66.211.250|            1|\n",
            "| 47.23.112.152|            1|\n",
            "| 4.194.191.132|            1|\n",
            "| 45.151.23.246|            1|\n",
            "|65.186.114.185|            1|\n",
            "+--------------+-------------+\n",
            "only showing top 10 rows\n",
            "\n"
          ]
        }
      ]
    },
    {
      "cell_type": "markdown",
      "source": [
        "### 2) Сгруппируем данные по HTTP-методу и посчитаем количество запросов для каждого метода."
      ],
      "metadata": {
        "id": "9EXKduXHM7-i"
      }
    },
    {
      "cell_type": "code",
      "source": [
        "df_method_count = (df.groupBy(\"method\").agg(count(\"method\")\n",
        "                  .alias(\"method_count\")).sort(count(\"ip\").desc()))\n",
        "print(\"Request count by HTTP method:\")\n",
        "df_method_count.show()"
      ],
      "metadata": {
        "colab": {
          "base_uri": "https://localhost:8080/"
        },
        "id": "AlE-cvexNEl6",
        "outputId": "1da51717-0e65-4817-83be-e13862dbf8ba"
      },
      "execution_count": 39,
      "outputs": [
        {
          "output_type": "stream",
          "name": "stdout",
          "text": [
            "Request count by HTTP method:\n",
            "+------+------------+\n",
            "|method|method_count|\n",
            "+------+------------+\n",
            "|   PUT|       25283|\n",
            "|  POST|       25072|\n",
            "|DELETE|       24859|\n",
            "|   GET|       24786|\n",
            "+------+------------+\n",
            "\n"
          ]
        }
      ]
    },
    {
      "cell_type": "markdown",
      "source": [
        "### 3) Профильтруем и посчитаем количество запросов с кодом ответа 404."
      ],
      "metadata": {
        "id": "j2fCsaGiNJlh"
      }
    },
    {
      "cell_type": "code",
      "source": [
        "count_response_code_404 = (df.where(df.response_code == 404).count())\n",
        "print(f\"Number of 404 response codes: {count_response_code_404}\")"
      ],
      "metadata": {
        "colab": {
          "base_uri": "https://localhost:8080/"
        },
        "id": "dNPILBroNQrA",
        "outputId": "608c358a-1f67-4707-a59d-82c1b7caa668"
      },
      "execution_count": 41,
      "outputs": [
        {
          "output_type": "stream",
          "name": "stdout",
          "text": [
            "Number of 404 response codes: 24880\n"
          ]
        }
      ]
    },
    {
      "cell_type": "markdown",
      "source": [
        "### 4) Сгруппируем данные по дате и просуммируем размер ответов, сортируем по дате."
      ],
      "metadata": {
        "id": "DPMCNi89NUPK"
      }
    },
    {
      "cell_type": "code",
      "source": [
        "df_date_count = (df.groupBy(\"date\").agg(sum(\"response_size\"))\n",
        "                .alias(\"total_response_size\").sort(df.date.asc()))\n",
        "print(\"Total response_size by day:\")\n",
        "df_date_count.show()"
      ],
      "metadata": {
        "colab": {
          "base_uri": "https://localhost:8080/"
        },
        "id": "qkDiMkLCNc4h",
        "outputId": "62ac0c46-bf50-48cb-c9b4-b935e29d3418"
      },
      "execution_count": 40,
      "outputs": [
        {
          "output_type": "stream",
          "name": "stdout",
          "text": [
            "Total response_size by day:\n",
            "+----------+------------------+\n",
            "|      date|sum(response_size)|\n",
            "+----------+------------------+\n",
            "|2024-01-01|           1498673|\n",
            "|2024-01-02|           1364779|\n",
            "|2024-01-03|           1467030|\n",
            "|2024-01-04|           1660047|\n",
            "|2024-01-05|           1471441|\n",
            "|2024-01-06|           1481402|\n",
            "|2024-01-07|           1597959|\n",
            "|2024-01-08|           1459232|\n",
            "|2024-01-09|           1519743|\n",
            "|2024-01-10|           1392837|\n",
            "|2024-01-11|           1541038|\n",
            "|2024-01-12|           1525736|\n",
            "|2024-01-13|           1591904|\n",
            "|2024-01-14|           1495506|\n",
            "|2024-01-15|           1740182|\n",
            "|2024-01-16|           1446578|\n",
            "|2024-01-17|           1471862|\n",
            "|2024-01-18|           1464171|\n",
            "|2024-01-19|           1296133|\n",
            "|2024-01-20|           1496959|\n",
            "+----------+------------------+\n",
            "only showing top 20 rows\n",
            "\n"
          ]
        }
      ]
    }
  ]
}